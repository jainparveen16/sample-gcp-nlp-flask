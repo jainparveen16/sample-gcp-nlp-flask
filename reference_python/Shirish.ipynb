{
 "cells": [
  {
   "cell_type": "code",
   "execution_count": 8,
   "id": "ranking-singing",
   "metadata": {},
   "outputs": [],
   "source": [
    "from google.cloud import storage\n",
    "from google.cloud import language_v1 as language"
   ]
  },
  {
   "cell_type": "code",
   "execution_count": 16,
   "id": "physical-alias",
   "metadata": {},
   "outputs": [],
   "source": [
    "def gcp_classify_text(text):\n",
    "    client = language.LanguageServiceClient()\n",
    "    document = language.Document(content=text, type_=language.Document.Type.PLAIN_TEXT)\n",
    "    response = client.classify_text(document=document)\n",
    "    #response = client.classify(document=document)\n",
    "    for category in response.categories:\n",
    "        return {category.name}"
   ]
  },
  {
   "cell_type": "code",
   "execution_count": 19,
   "id": "latin-throat",
   "metadata": {},
   "outputs": [],
   "source": [
    "def analyze_text_sentiment(text):\n",
    "    client = language.LanguageServiceClient()\n",
    "    document = language.Document(content=text, type_=language.Document.Type.PLAIN_TEXT)\n",
    "    response = client.analyze_sentiment(document=document)\n",
    "    sentiment = response.document_sentiment\n",
    "    results = dict(\n",
    "        text=text,\n",
    "        score=f\"{sentiment.score:.1%}\",\n",
    "        magnitude=f\"{sentiment.magnitude:.1%}\",\n",
    "    )\n",
    "    # Get sentiment for all sentences in the document\n",
    "    sentence_sentiment = []\n",
    "    for sentence in response.sentences:\n",
    "        item={}\n",
    "        item[\"text\"]=sentence.text.content\n",
    "        item[\"sentiment score\"]=sentence.sentiment.score\n",
    "        item[\"sentiment magnitude\"]=sentence.sentiment.magnitude\n",
    "        sentence_sentiment.append(item)\n",
    "    return sentence_sentiment"
   ]
  },
  {
   "cell_type": "code",
   "execution_count": 24,
   "id": "outer-brief",
   "metadata": {},
   "outputs": [
    {
     "ename": "TypeError",
     "evalue": "a bytes-like object is required, not 'str'",
     "output_type": "error",
     "traceback": [
      "\u001b[0;31m---------------------------------------------------------------------------\u001b[0m",
      "\u001b[0;31mTypeError\u001b[0m                                 Traceback (most recent call last)",
      "\u001b[0;32m<ipython-input-24-baef734854ba>\u001b[0m in \u001b[0;36m<module>\u001b[0;34m\u001b[0m\n\u001b[1;32m      3\u001b[0m \u001b[0mblob\u001b[0m \u001b[0;34m=\u001b[0m \u001b[0mbucket\u001b[0m\u001b[0;34m.\u001b[0m\u001b[0mget_blob\u001b[0m\u001b[0;34m(\u001b[0m\u001b[0;34m'New_Article.txt'\u001b[0m\u001b[0;34m)\u001b[0m\u001b[0;34m\u001b[0m\u001b[0;34m\u001b[0m\u001b[0m\n\u001b[1;32m      4\u001b[0m \u001b[0mdownloaded_blob\u001b[0m \u001b[0;34m=\u001b[0m \u001b[0mblob\u001b[0m\u001b[0;34m.\u001b[0m\u001b[0mdownload_as_string\u001b[0m\u001b[0;34m(\u001b[0m\u001b[0;34m)\u001b[0m\u001b[0;34m\u001b[0m\u001b[0;34m\u001b[0m\u001b[0m\n\u001b[0;32m----> 5\u001b[0;31m \u001b[0mprint\u001b[0m\u001b[0;34m(\u001b[0m\u001b[0mdownloaded_blob\u001b[0m\u001b[0;34m.\u001b[0m\u001b[0mreplace\u001b[0m\u001b[0;34m(\u001b[0m\u001b[0;34m\"\\r\\n\"\u001b[0m\u001b[0;34m,\u001b[0m \u001b[0;34m\"\"\u001b[0m\u001b[0;34m)\u001b[0m\u001b[0;34m)\u001b[0m\u001b[0;34m\u001b[0m\u001b[0;34m\u001b[0m\u001b[0m\n\u001b[0m",
      "\u001b[0;31mTypeError\u001b[0m: a bytes-like object is required, not 'str'"
     ]
    }
   ],
   "source": [
    "client = storage.Client()\n",
    "bucket = client.get_bucket('gee-nlp')\n",
    "blob = bucket.get_blob('New_Article.txt')\n",
    "downloaded_blob = blob.download_as_string()\n",
    "print(downloaded_blob.replace(\"\\r\\n\", \"\"))"
   ]
  },
  {
   "cell_type": "code",
   "execution_count": 20,
   "id": "confident-bracket",
   "metadata": {},
   "outputs": [
    {
     "name": "stdout",
     "output_type": "stream",
     "text": [
      "[{'text': 'Deutsche Bank today announced the launch of GEM Connect, a component-based solution designed to address workflow challenges across collections, payments, funding and FX in APAC markets with capital restrictions.', 'sentiment score': 0.0, 'sentiment magnitude': 0.0}, {'text': \"Developed by the bank's Corporate Bank and Fixed Income & Currencies business units in APAC, GEM Connect links treasury processes together into automated workflows, simplifying complex processes for clients moving money to, from and across markets with capital restrictions.\", 'sentiment score': 0.10000000149011612, 'sentiment magnitude': 0.10000000149011612}, {'text': \"Using any combination of GEM Connect's components, such as its rules-based FX execution tool and payment and hedge matching solution, Deutsche Bank is able to provide a one-stop liquidity and FX management solution for its clients in emerging markets such as India, Indonesia, Korea, Mainland China, Malaysia, Philippines, Taiwan and Thailand.\", 'sentiment score': 0.6000000238418579, 'sentiment magnitude': 0.6000000238418579}, {'text': 'Use cases can include:\\r\\n- Target balance automation to support up and downstream cross-border intra-company payments, with or without an account to streamline liquidity or commercial payment objectives.', 'sentiment score': 0.0, 'sentiment magnitude': 0.0}, {'text': '- Automated reconciliation of payments and collections against FX hedge contracts to speed up cross-border settlements, reduce hedging costs and achieve operational efficiency.', 'sentiment score': 0.10000000149011612, 'sentiment magnitude': 0.10000000149011612}, {'text': '- Automated execution of onshore payments or receipts with a hedge adjustment to reduce basis risk and periods of open market risk for FX execution outside Asia time zones.', 'sentiment score': 0.0, 'sentiment magnitude': 0.0}, {'text': 'GEM Connect will also be rolled out in other emerging markets outside of the region.', 'sentiment score': 0.10000000149011612, 'sentiment magnitude': 0.10000000149011612}, {'text': \"APAC Head of Corporate Bank and Fixed Income & Currencies, David Lynne, said: 'By removing manual processes and currency risk in intra-company cross-border transactions involving emerging markets, Deutsche Bank addresses real problems faced by our corporate clients.\", 'sentiment score': 0.20000000298023224, 'sentiment magnitude': 0.20000000298023224}, {'text': 'GEM Connect is a turning point.', 'sentiment score': 0.6000000238418579, 'sentiment magnitude': 0.6000000238418579}, {'text': 'It will play a key role in helping treasurers to better manage their liquidity both at group and subsidiary levels.', 'sentiment score': 0.6000000238418579, 'sentiment magnitude': 0.6000000238418579}, {'text': \"We will continue to invest in integrated platform technology in order to provide seamless client solutions.'\", 'sentiment score': 0.6000000238418579, 'sentiment magnitude': 0.6000000238418579}, {'text': '2021 GitHub, Inc.', 'sentiment score': 0.30000001192092896, 'sentiment magnitude': 0.30000001192092896}]\n",
      "{'/Finance/Banking'}\n"
     ]
    }
   ],
   "source": [
    "downloaded_blob_1  = downloaded_blob.decode('utf-8', 'ignore')\n",
    "downloaded_blob_1.\n",
    "\n",
    "sentence_sentiment = analyze_text_sentiment(downloaded_blob_1)\n",
    "print(sentence_sentiment)\n",
    "classify_document  = gcp_classify_text(downloaded_blob_1)\n",
    "print(classify_document)"
   ]
  },
  {
   "cell_type": "code",
   "execution_count": null,
   "id": "introductory-great",
   "metadata": {},
   "outputs": [],
   "source": []
  }
 ],
 "metadata": {
  "environment": {
   "name": "tf2-gpu.2-3.m65",
   "type": "gcloud",
   "uri": "gcr.io/deeplearning-platform-release/tf2-gpu.2-3:m65"
  },
  "kernelspec": {
   "display_name": "Python 3",
   "language": "python",
   "name": "python3"
  },
  "language_info": {
   "codemirror_mode": {
    "name": "ipython",
    "version": 3
   },
   "file_extension": ".py",
   "mimetype": "text/x-python",
   "name": "python",
   "nbconvert_exporter": "python",
   "pygments_lexer": "ipython3",
   "version": "3.7.10"
  }
 },
 "nbformat": 4,
 "nbformat_minor": 5
}

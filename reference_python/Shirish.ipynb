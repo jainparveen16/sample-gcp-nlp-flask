{
 "cells": [
  {
   "cell_type": "code",
   "execution_count": 8,
   "id": "vietnamese-turner",
   "metadata": {},
   "outputs": [],
   "source": [
    "from google.cloud import storage\n",
    "from google.cloud import language_v1 as language"
   ]
  },
  {
   "cell_type": "code",
   "execution_count": 9,
   "id": "minute-professor",
   "metadata": {},
   "outputs": [],
   "source": [
    "def gcp_classify_text(text):\n",
    "    client = language.LanguageServiceClient()\n",
    "    document = language.Document(content=text, type_=language.Document.Type.PLAIN_TEXT)\n",
    "    response = client.classify_text(document=document)\n",
    "    response = client.classify(document=document)\n",
    "    for category in response.categories:\n",
    "        return {category.name}"
   ]
  },
  {
   "cell_type": "code",
   "execution_count": 10,
   "id": "polyphonic-ethnic",
   "metadata": {},
   "outputs": [],
   "source": [
    "client = storage.Client()\n",
    "bucket = client.get_bucket('gee-nlp')\n",
    "blob = bucket.get_blob('New_Article.txt')\n",
    "downloaded_blob = blob.download_as_string()\n",
    "#print(downloaded_blob)"
   ]
  },
  {
   "cell_type": "code",
   "execution_count": 14,
   "id": "contrary-driving",
   "metadata": {},
   "outputs": [
    {
     "ename": "ValueError",
     "evalue": "b\"Deutsche Bank today announced the launch of GEM Connect, a component-based solution designed to address workflow challenges across collections, payments, funding and FX in APAC markets with capital restrictions.\\r\\n\\r\\nDeveloped by the bank's Corporate Bank and Fixed Income & Currencies business units in APAC, GEM Connect links treasury processes together into automated workflows, simplifying complex processes for clients moving money to, from and across markets with capital restrictions.\\r\\n\\r\\nUsing any combination of GEM Connect's components, such as its rules-based FX execution tool and payment and hedge matching solution, Deutsche Bank is able to provide a one-stop liquidity and FX management solution for its clients in emerging markets such as India, Indonesia, Korea, Mainland China, Malaysia, Philippines, Taiwan and Thailand.\\r\\n\\r\\nUse cases can include:\\r\\n- Target balance automation to support up and downstream cross-border intra-company payments, with or without an account to streamline liquidity or commercial payment objectives.\\r\\n- Automated reconciliation of payments and collections against FX hedge contracts to speed up cross-border settlements, reduce hedging costs and achieve operational efficiency.\\r\\n- Automated execution of onshore payments or receipts with a hedge adjustment to reduce basis risk and periods of open market risk for FX execution outside Asia time zones.\\r\\n\\r\\nGEM Connect will also be rolled out in other emerging markets outside of the region.\\r\\n\\r\\nAPAC Head of Corporate Bank and Fixed Income & Currencies, David Lynne, said: 'By removing manual processes and currency risk in intra-company cross-border transactions involving emerging markets, Deutsche Bank addresses real problems faced by our corporate clients. GEM Connect is a turning point. It will play a key role in helping treasurers to better manage their liquidity both at group and subsidiary levels. We will continue to invest in integrated platform technology in order to provide seamless client solutions.'\\r\\n\\xa9 2021 GitHub, Inc.\" has type str, but isn't valid UTF-8 encoding. Non-UTF-8 strings must be converted to unicode objects before being added.",
     "output_type": "error",
     "traceback": [
      "\u001b[0;31m---------------------------------------------------------------------------\u001b[0m",
      "\u001b[0;31mValueError\u001b[0m                                Traceback (most recent call last)",
      "\u001b[0;32m<ipython-input-14-1c5b71b18256>\u001b[0m in \u001b[0;36m<module>\u001b[0;34m\u001b[0m\n\u001b[0;32m----> 1\u001b[0;31m \u001b[0mclassify_document\u001b[0m \u001b[0;34m=\u001b[0m \u001b[0mgcp_classify_text\u001b[0m\u001b[0;34m(\u001b[0m\u001b[0mdownloaded_blob\u001b[0m\u001b[0;34m)\u001b[0m\u001b[0;34m\u001b[0m\u001b[0;34m\u001b[0m\u001b[0m\n\u001b[0m\u001b[1;32m      2\u001b[0m \u001b[0;34m\u001b[0m\u001b[0m\n\u001b[1;32m      3\u001b[0m \u001b[0mprint\u001b[0m\u001b[0;34m(\u001b[0m\u001b[0mclassify_document\u001b[0m\u001b[0;34m)\u001b[0m\u001b[0;34m\u001b[0m\u001b[0;34m\u001b[0m\u001b[0m\n",
      "\u001b[0;32m<ipython-input-9-e7cd0111d9dd>\u001b[0m in \u001b[0;36mgcp_classify_text\u001b[0;34m(text)\u001b[0m\n\u001b[1;32m      1\u001b[0m \u001b[0;32mdef\u001b[0m \u001b[0mgcp_classify_text\u001b[0m\u001b[0;34m(\u001b[0m\u001b[0mtext\u001b[0m\u001b[0;34m)\u001b[0m\u001b[0;34m:\u001b[0m\u001b[0;34m\u001b[0m\u001b[0;34m\u001b[0m\u001b[0m\n\u001b[1;32m      2\u001b[0m     \u001b[0mclient\u001b[0m \u001b[0;34m=\u001b[0m \u001b[0mlanguage\u001b[0m\u001b[0;34m.\u001b[0m\u001b[0mLanguageServiceClient\u001b[0m\u001b[0;34m(\u001b[0m\u001b[0;34m)\u001b[0m\u001b[0;34m\u001b[0m\u001b[0;34m\u001b[0m\u001b[0m\n\u001b[0;32m----> 3\u001b[0;31m     \u001b[0mdocument\u001b[0m \u001b[0;34m=\u001b[0m \u001b[0mlanguage\u001b[0m\u001b[0;34m.\u001b[0m\u001b[0mDocument\u001b[0m\u001b[0;34m(\u001b[0m\u001b[0mcontent\u001b[0m\u001b[0;34m=\u001b[0m\u001b[0mtext\u001b[0m\u001b[0;34m,\u001b[0m \u001b[0mtype_\u001b[0m\u001b[0;34m=\u001b[0m\u001b[0mlanguage\u001b[0m\u001b[0;34m.\u001b[0m\u001b[0mDocument\u001b[0m\u001b[0;34m.\u001b[0m\u001b[0mType\u001b[0m\u001b[0;34m.\u001b[0m\u001b[0mPLAIN_TEXT\u001b[0m\u001b[0;34m)\u001b[0m\u001b[0;34m\u001b[0m\u001b[0;34m\u001b[0m\u001b[0m\n\u001b[0m\u001b[1;32m      4\u001b[0m     \u001b[0mresponse\u001b[0m \u001b[0;34m=\u001b[0m \u001b[0mclient\u001b[0m\u001b[0;34m.\u001b[0m\u001b[0mclassify_text\u001b[0m\u001b[0;34m(\u001b[0m\u001b[0mdocument\u001b[0m\u001b[0;34m=\u001b[0m\u001b[0mdocument\u001b[0m\u001b[0;34m)\u001b[0m\u001b[0;34m\u001b[0m\u001b[0;34m\u001b[0m\u001b[0m\n\u001b[1;32m      5\u001b[0m     \u001b[0mresponse\u001b[0m \u001b[0;34m=\u001b[0m \u001b[0mclient\u001b[0m\u001b[0;34m.\u001b[0m\u001b[0mclassify\u001b[0m\u001b[0;34m(\u001b[0m\u001b[0mdocument\u001b[0m\u001b[0;34m=\u001b[0m\u001b[0mdocument\u001b[0m\u001b[0;34m)\u001b[0m\u001b[0;34m\u001b[0m\u001b[0;34m\u001b[0m\u001b[0m\n",
      "\u001b[0;32m/opt/conda/lib/python3.7/site-packages/proto/message.py\u001b[0m in \u001b[0;36m__init__\u001b[0;34m(self, mapping, ignore_unknown_fields, **kwargs)\u001b[0m\n\u001b[1;32m    469\u001b[0m \u001b[0;34m\u001b[0m\u001b[0m\n\u001b[1;32m    470\u001b[0m         \u001b[0;31m# Create the internal protocol buffer.\u001b[0m\u001b[0;34m\u001b[0m\u001b[0;34m\u001b[0m\u001b[0;34m\u001b[0m\u001b[0m\n\u001b[0;32m--> 471\u001b[0;31m         \u001b[0msuper\u001b[0m\u001b[0;34m(\u001b[0m\u001b[0;34m)\u001b[0m\u001b[0;34m.\u001b[0m\u001b[0m__setattr__\u001b[0m\u001b[0;34m(\u001b[0m\u001b[0;34m\"_pb\"\u001b[0m\u001b[0;34m,\u001b[0m \u001b[0mself\u001b[0m\u001b[0;34m.\u001b[0m\u001b[0m_meta\u001b[0m\u001b[0;34m.\u001b[0m\u001b[0mpb\u001b[0m\u001b[0;34m(\u001b[0m\u001b[0;34m**\u001b[0m\u001b[0mparams\u001b[0m\u001b[0;34m)\u001b[0m\u001b[0;34m)\u001b[0m\u001b[0;34m\u001b[0m\u001b[0;34m\u001b[0m\u001b[0m\n\u001b[0m\u001b[1;32m    472\u001b[0m \u001b[0;34m\u001b[0m\u001b[0m\n\u001b[1;32m    473\u001b[0m     \u001b[0;32mdef\u001b[0m \u001b[0m__bool__\u001b[0m\u001b[0;34m(\u001b[0m\u001b[0mself\u001b[0m\u001b[0;34m)\u001b[0m\u001b[0;34m:\u001b[0m\u001b[0;34m\u001b[0m\u001b[0;34m\u001b[0m\u001b[0m\n",
      "\u001b[0;31mValueError\u001b[0m: b\"Deutsche Bank today announced the launch of GEM Connect, a component-based solution designed to address workflow challenges across collections, payments, funding and FX in APAC markets with capital restrictions.\\r\\n\\r\\nDeveloped by the bank's Corporate Bank and Fixed Income & Currencies business units in APAC, GEM Connect links treasury processes together into automated workflows, simplifying complex processes for clients moving money to, from and across markets with capital restrictions.\\r\\n\\r\\nUsing any combination of GEM Connect's components, such as its rules-based FX execution tool and payment and hedge matching solution, Deutsche Bank is able to provide a one-stop liquidity and FX management solution for its clients in emerging markets such as India, Indonesia, Korea, Mainland China, Malaysia, Philippines, Taiwan and Thailand.\\r\\n\\r\\nUse cases can include:\\r\\n- Target balance automation to support up and downstream cross-border intra-company payments, with or without an account to streamline liquidity or commercial payment objectives.\\r\\n- Automated reconciliation of payments and collections against FX hedge contracts to speed up cross-border settlements, reduce hedging costs and achieve operational efficiency.\\r\\n- Automated execution of onshore payments or receipts with a hedge adjustment to reduce basis risk and periods of open market risk for FX execution outside Asia time zones.\\r\\n\\r\\nGEM Connect will also be rolled out in other emerging markets outside of the region.\\r\\n\\r\\nAPAC Head of Corporate Bank and Fixed Income & Currencies, David Lynne, said: 'By removing manual processes and currency risk in intra-company cross-border transactions involving emerging markets, Deutsche Bank addresses real problems faced by our corporate clients. GEM Connect is a turning point. It will play a key role in helping treasurers to better manage their liquidity both at group and subsidiary levels. We will continue to invest in integrated platform technology in order to provide seamless client solutions.'\\r\\n\\xa9 2021 GitHub, Inc.\" has type str, but isn't valid UTF-8 encoding. Non-UTF-8 strings must be converted to unicode objects before being added."
     ]
    }
   ],
   "source": [
    "classify_document = gcp_classify_text(downloaded_blob)\n",
    "\n",
    "print(classify_document)"
   ]
  },
  {
   "cell_type": "code",
   "execution_count": null,
   "id": "innovative-beijing",
   "metadata": {},
   "outputs": [],
   "source": []
  }
 ],
 "metadata": {
  "environment": {
   "name": "tf2-gpu.2-3.m65",
   "type": "gcloud",
   "uri": "gcr.io/deeplearning-platform-release/tf2-gpu.2-3:m65"
  },
  "kernelspec": {
   "display_name": "Python 3",
   "language": "python",
   "name": "python3"
  },
  "language_info": {
   "codemirror_mode": {
    "name": "ipython",
    "version": 3
   },
   "file_extension": ".py",
   "mimetype": "text/x-python",
   "name": "python",
   "nbconvert_exporter": "python",
   "pygments_lexer": "ipython3",
   "version": "3.7.10"
  }
 },
 "nbformat": 4,
 "nbformat_minor": 5
}
